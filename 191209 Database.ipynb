{
 "cells": [
  {
   "cell_type": "markdown",
   "metadata": {},
   "source": [
    "### 데이터베이스의 개요\n",
    "\n",
    "1) DB & DBMS:DB는 data자체, DBMS는 data를 관리해주는 시스템\n",
    "\n",
    "2) RDBMS & NoSQL\n",
    "\n",
    " - RDBMS\n",
    " \n",
    "   수정할 때 다른 관계들도 생각해줘야 하며,유연성이 낮다. \n",
    "   신뢰성이 높고, 데이터를 가져 오는 것이 빠르다.\n",
    "   관계 때문에 insert가 느리다\n",
    "   \n",
    "   \n",
    " - NoSQL\n",
    " \n",
    "   관계가 없으니 그냥 넣으면 된다.\n",
    "   insert가 빠르다(데이터 수집에 유리).\n",
    "         "
   ]
  },
  {
   "cell_type": "markdown",
   "metadata": {},
   "source": [
    "### SELECT FROM\n",
    "\n",
    "- 기본포맷\n",
    "  SELECT\n",
    "  FROM\n",
    "  \n",
    "- use DB명;       \n",
    "  Select *          \n",
    "  from country  "
   ]
  },
  {
   "cell_type": "markdown",
   "metadata": {},
   "source": [
    "### WHERE\n",
    "\n",
    "- 비교(>, <, =)연산, 논리(AND, OR)연산, 범위(Between)연산\n",
    "\n",
    "- 특정 조건 포함: IN, NOT IN"
   ]
  },
  {
   "cell_type": "markdown",
   "metadata": {},
   "source": [
    "### ORDER BY\n",
    "\n",
    "- ASC(오름차순), DESC(내림차순)\n",
    "\n",
    "- LIMIT: 조회하는 데이터의 수 제한\n",
    "\n",
    "- LIMIT x, y: 상위 혹은 하위 x개 제외 y개 출력"
   ]
  },
  {
   "cell_type": "markdown",
   "metadata": {},
   "source": [
    "### GROUP BY HAVING\n",
    "\n",
    "- 여러개의 동일한 데이터를 가지는 특정 컬럼을 합쳐주는 역할\n",
    "\n",
    "- COUNT, MAX, MIN, AVG, VAR_SAMP, STDDEV\n",
    "\n",
    "- DISTINCT: 중복 제거\n",
    "\n",
    "- HAVING: Group by에서 반환되는 결과에 조건 부여"
   ]
  },
  {
   "cell_type": "code",
   "execution_count": null,
   "metadata": {},
   "outputs": [],
   "source": []
  }
 ],
 "metadata": {
  "kernelspec": {
   "display_name": "Python 3",
   "language": "python",
   "name": "python3"
  },
  "language_info": {
   "codemirror_mode": {
    "name": "ipython",
    "version": 3
   },
   "file_extension": ".py",
   "mimetype": "text/x-python",
   "name": "python",
   "nbconvert_exporter": "python",
   "pygments_lexer": "ipython3",
   "version": "3.7.5"
  }
 },
 "nbformat": 4,
 "nbformat_minor": 2
}
